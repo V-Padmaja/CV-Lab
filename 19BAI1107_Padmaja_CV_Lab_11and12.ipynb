{
 "cells": [
  {
   "cell_type": "markdown",
   "metadata": {
    "id": "V6ZZiezmeIfA"
   },
   "source": [
    "#  Computer Vision in Health Care Lab\n",
    "### Name: V Padmaja\n",
    "### RegNo: 19BAI1107\n",
    "## Lab Experiment 11 and 12: Image Classification using Convoutional Neural Networks\n",
    "### Dataset Used: Brain Tumor Dataset from kaggle\n",
    "#### Multiclass Classification\n",
    "The following are the classes present in the dataset\n",
    "- Glioma\n",
    "- Meningioma\n",
    "- Pitutary \n",
    "- No tumor\n"
   ]
  },
  {
   "cell_type": "markdown",
   "metadata": {
    "id": "8_zBCPifevLR"
   },
   "source": [
    "### Mounting the drive"
   ]
  },
  {
   "cell_type": "code",
   "execution_count": 1,
   "metadata": {
    "colab": {
     "base_uri": "https://localhost:8080/"
    },
    "id": "BW1N_gYKeYDI",
    "outputId": "473e8095-e719-441f-f95a-13350277a6b8"
   },
   "outputs": [
    {
     "name": "stdout",
     "output_type": "stream",
     "text": [
      "Mounted at /content/drive\n"
     ]
    }
   ],
   "source": [
    "from google.colab import drive\n",
    "drive.mount('/content/drive')"
   ]
  },
  {
   "cell_type": "markdown",
   "metadata": {
    "id": "qogrlgOP-aro"
   },
   "source": [
    "### Import Necessary Libraries"
   ]
  },
  {
   "cell_type": "code",
   "execution_count": 2,
   "metadata": {
    "id": "r-FgarUMfvgF"
   },
   "outputs": [],
   "source": [
    "from keras.preprocessing.image import ImageDataGenerator\n",
    "from numpy import array\n",
    "from numpy import argmax\n",
    "from sklearn.preprocessing import LabelEncoder\n",
    "from sklearn.preprocessing import OneHotEncoder\n",
    "import sys"
   ]
  },
  {
   "cell_type": "code",
   "execution_count": 3,
   "metadata": {
    "id": "U1ZFSko_fwNz"
   },
   "outputs": [],
   "source": [
    "import tensorflow as tf\n",
    "from keras.layers import Conv2D\n",
    "from keras.layers import MaxPooling2D, Dropout\n",
    "from keras.models import Sequential\n",
    "from keras.layers.core import Activation\n",
    "from keras.layers import Flatten\n",
    "from keras.layers import Dense\n",
    "import os\n",
    "import sys"
   ]
  },
  {
   "cell_type": "markdown",
   "metadata": {
    "id": "mB_8Zcd0-gE5"
   },
   "source": [
    "### Defining the classifier network"
   ]
  },
  {
   "cell_type": "code",
   "execution_count": 4,
   "metadata": {
    "id": "8nAWLP2Afwa7"
   },
   "outputs": [],
   "source": [
    "classifier = Sequential()"
   ]
  },
  {
   "cell_type": "markdown",
   "metadata": {
    "id": "OJO7GZdN-k34"
   },
   "source": [
    "### Adding layers to classifier network"
   ]
  },
  {
   "cell_type": "code",
   "execution_count": 5,
   "metadata": {
    "id": "-s4fVj84fwrj"
   },
   "outputs": [],
   "source": [
    "classifier.add(Conv2D(32, (3, 3), input_shape=(32, 32, 3), activation='relu'))\n",
    "classifier.add(MaxPooling2D(pool_size=(2, 2)))\n",
    "classifier.add(Flatten())\n",
    "classifier.add(Dropout(0.2))\n",
    "classifier.add(Dense(units=256, activation='relu'))\n",
    "classifier.add(Dropout(0.2))\n",
    "classifier.add(Dense(units=128, activation='relu'))\n",
    "classifier.add(Dropout(0.2))\n",
    "classifier.add(Dense(units=4, activation='softmax'))"
   ]
  },
  {
   "cell_type": "markdown",
   "metadata": {
    "id": "Qim0J3-M-suq"
   },
   "source": [
    "### Compiling the network"
   ]
  },
  {
   "cell_type": "code",
   "execution_count": 6,
   "metadata": {
    "id": "WIdCXoa6fw3g"
   },
   "outputs": [],
   "source": [
    "classifier.compile(optimizer='adam', loss='categorical_crossentropy', metrics=['accuracy'])"
   ]
  },
  {
   "cell_type": "markdown",
   "metadata": {
    "id": "goqxPlVT-2cu"
   },
   "source": [
    "### Using imageDataGenerator to preprocess the data"
   ]
  },
  {
   "cell_type": "code",
   "execution_count": 7,
   "metadata": {
    "id": "mwPJX0YJgBLs"
   },
   "outputs": [],
   "source": [
    "train_datagen = ImageDataGenerator(rescale=1./255, shear_range=0.2, zoom_range=0.2, horizontal_flip=True)\n",
    "test_datagen = ImageDataGenerator(rescale=1./255)\n",
    "evaluate_datagen = ImageDataGenerator(rescale=1./255)"
   ]
  },
  {
   "cell_type": "markdown",
   "metadata": {
    "id": "SJFbJ451-_f4"
   },
   "source": [
    "### Defining Training and Testing sets"
   ]
  },
  {
   "cell_type": "code",
   "execution_count": 8,
   "metadata": {
    "colab": {
     "base_uri": "https://localhost:8080/"
    },
    "id": "QGfAoICcgBWP",
    "outputId": "23ee3539-45fc-4d8d-9535-6f62f65033a6"
   },
   "outputs": [
    {
     "name": "stdout",
     "output_type": "stream",
     "text": [
      "Found 5717 images belonging to 4 classes.\n",
      "Found 1311 images belonging to 4 classes.\n"
     ]
    }
   ],
   "source": [
    "train_generator = train_datagen.flow_from_directory('/content/drive/MyDrive/Brain_Tumor/Training', target_size=(32, 32), batch_size=64, class_mode='categorical')\n",
    "test_generator = test_datagen.flow_from_directory('/content/drive/MyDrive/Brain_Tumor/Testing', target_size=(32, 32), batch_size=64, class_mode='categorical')"
   ]
  },
  {
   "cell_type": "markdown",
   "metadata": {
    "id": "Qr-EtVRA_EZ2"
   },
   "source": [
    "### Training"
   ]
  },
  {
   "cell_type": "code",
   "execution_count": 9,
   "metadata": {
    "colab": {
     "base_uri": "https://localhost:8080/"
    },
    "id": "LVNYzX0BgHt9",
    "outputId": "d649bc3b-7337-4ed3-ab10-464e9f108376"
   },
   "outputs": [
    {
     "name": "stderr",
     "output_type": "stream",
     "text": [
      "/usr/local/lib/python3.7/dist-packages/ipykernel_launcher.py:1: UserWarning: `Model.fit_generator` is deprecated and will be removed in a future version. Please use `Model.fit`, which supports generators.\n",
      "  \"\"\"Entry point for launching an IPython kernel.\n"
     ]
    },
    {
     "name": "stdout",
     "output_type": "stream",
     "text": [
      "Epoch 1/25\n",
      "25/25 [==============================] - 826s 34s/step - loss: 1.2371 - accuracy: 0.4062 - val_loss: 1.0342 - val_accuracy: 0.5531\n",
      "Epoch 2/25\n",
      "25/25 [==============================] - 547s 22s/step - loss: 0.9887 - accuracy: 0.5713 - val_loss: 0.9014 - val_accuracy: 0.6953\n",
      "Epoch 3/25\n",
      "25/25 [==============================] - 319s 13s/step - loss: 0.8381 - accuracy: 0.6500 - val_loss: 0.7922 - val_accuracy: 0.7250\n",
      "Epoch 4/25\n",
      "25/25 [==============================] - 235s 10s/step - loss: 0.7580 - accuracy: 0.7069 - val_loss: 0.8533 - val_accuracy: 0.6922\n",
      "Epoch 5/25\n",
      "25/25 [==============================] - 154s 6s/step - loss: 0.6887 - accuracy: 0.7367 - val_loss: 0.7938 - val_accuracy: 0.7031\n",
      "Epoch 6/25\n",
      "25/25 [==============================] - 123s 5s/step - loss: 0.6725 - accuracy: 0.7369 - val_loss: 0.8653 - val_accuracy: 0.6984\n",
      "Epoch 7/25\n",
      "25/25 [==============================] - 85s 3s/step - loss: 0.6650 - accuracy: 0.7412 - val_loss: 0.8573 - val_accuracy: 0.6906\n",
      "Epoch 8/25\n",
      "25/25 [==============================] - 68s 3s/step - loss: 0.6046 - accuracy: 0.7575 - val_loss: 0.7767 - val_accuracy: 0.7016\n",
      "Epoch 9/25\n",
      "25/25 [==============================] - 39s 2s/step - loss: 0.5500 - accuracy: 0.7875 - val_loss: 0.7226 - val_accuracy: 0.7203\n",
      "Epoch 10/25\n",
      "25/25 [==============================] - 39s 2s/step - loss: 0.5911 - accuracy: 0.7731 - val_loss: 0.7352 - val_accuracy: 0.7047\n",
      "Epoch 11/25\n",
      "25/25 [==============================] - 32s 1s/step - loss: 0.5190 - accuracy: 0.8006 - val_loss: 0.9398 - val_accuracy: 0.6984\n",
      "Epoch 12/25\n",
      "25/25 [==============================] - 24s 964ms/step - loss: 0.5514 - accuracy: 0.7738 - val_loss: 0.8327 - val_accuracy: 0.6922\n",
      "Epoch 13/25\n",
      "25/25 [==============================] - 27s 1s/step - loss: 0.5125 - accuracy: 0.8056 - val_loss: 0.9216 - val_accuracy: 0.6719\n",
      "Epoch 14/25\n",
      "25/25 [==============================] - 18s 750ms/step - loss: 0.5357 - accuracy: 0.8050 - val_loss: 0.6444 - val_accuracy: 0.7281\n",
      "Epoch 15/25\n",
      "25/25 [==============================] - 20s 805ms/step - loss: 0.4864 - accuracy: 0.8119 - val_loss: 0.6515 - val_accuracy: 0.7516\n",
      "Epoch 16/25\n",
      "25/25 [==============================] - 18s 718ms/step - loss: 0.4820 - accuracy: 0.8213 - val_loss: 0.7046 - val_accuracy: 0.7422\n",
      "Epoch 17/25\n",
      "25/25 [==============================] - 15s 606ms/step - loss: 0.4802 - accuracy: 0.8094 - val_loss: 0.6594 - val_accuracy: 0.7141\n",
      "Epoch 18/25\n",
      "25/25 [==============================] - 15s 597ms/step - loss: 0.4507 - accuracy: 0.8294 - val_loss: 0.5889 - val_accuracy: 0.7766\n",
      "Epoch 19/25\n",
      "25/25 [==============================] - 13s 514ms/step - loss: 0.4938 - accuracy: 0.8048 - val_loss: 0.7038 - val_accuracy: 0.7312\n",
      "Epoch 20/25\n",
      "25/25 [==============================] - 13s 525ms/step - loss: 0.4752 - accuracy: 0.8275 - val_loss: 0.6333 - val_accuracy: 0.7469\n",
      "Epoch 21/25\n",
      "25/25 [==============================] - 12s 501ms/step - loss: 0.4215 - accuracy: 0.8388 - val_loss: 0.5424 - val_accuracy: 0.7828\n",
      "Epoch 22/25\n",
      "25/25 [==============================] - 13s 534ms/step - loss: 0.4169 - accuracy: 0.8419 - val_loss: 0.5129 - val_accuracy: 0.7875\n",
      "Epoch 23/25\n",
      "25/25 [==============================] - 13s 530ms/step - loss: 0.4343 - accuracy: 0.8381 - val_loss: 0.6007 - val_accuracy: 0.7688\n",
      "Epoch 24/25\n",
      "25/25 [==============================] - 13s 504ms/step - loss: 0.4027 - accuracy: 0.8544 - val_loss: 0.4303 - val_accuracy: 0.8344\n",
      "Epoch 25/25\n",
      "25/25 [==============================] - 12s 491ms/step - loss: 0.4218 - accuracy: 0.8497 - val_loss: 0.4792 - val_accuracy: 0.7922\n"
     ]
    }
   ],
   "source": [
    "score_fit = classifier.fit_generator(train_generator, steps_per_epoch=25,epochs=25, validation_data=test_generator, validation_steps=10)"
   ]
  },
  {
   "cell_type": "markdown",
   "metadata": {
    "id": "99NCq5HV_Hj1"
   },
   "source": [
    "### Obtaining score of classifier"
   ]
  },
  {
   "cell_type": "code",
   "execution_count": 10,
   "metadata": {
    "colab": {
     "base_uri": "https://localhost:8080/"
    },
    "id": "a8mzcCzcgKUv",
    "outputId": "fc1c5c7f-baa9-4177-9f84-a7b0bf75e8ed"
   },
   "outputs": [
    {
     "name": "stderr",
     "output_type": "stream",
     "text": [
      "/usr/local/lib/python3.7/dist-packages/ipykernel_launcher.py:2: UserWarning: `Model.evaluate_generator` is deprecated and will be removed in a future version. Please use `Model.evaluate`, which supports generators.\n",
      "  \n"
     ]
    },
    {
     "name": "stdout",
     "output_type": "stream",
     "text": [
      "WARNING:tensorflow:Your input ran out of data; interrupting training. Make sure that your dataset or generator can generate at least `steps_per_epoch * epochs` batches (in this case, 32 batches). You may need to use the repeat() function when building your dataset.\n"
     ]
    }
   ],
   "source": [
    "# print(\"Train generator indices : \", train_generator.class_indices)\n",
    "score = classifier.evaluate_generator(test_generator, 32)"
   ]
  },
  {
   "cell_type": "markdown",
   "metadata": {
    "id": "oJCQTeMH_QPR"
   },
   "source": [
    "### Printing Accuracy and loss"
   ]
  },
  {
   "cell_type": "code",
   "execution_count": 11,
   "metadata": {
    "colab": {
     "base_uri": "https://localhost:8080/"
    },
    "id": "xEaccPwhgK3X",
    "outputId": "7bf9dd08-9f9c-4ace-cfec-31e2974b89b8"
   },
   "outputs": [
    {
     "name": "stdout",
     "output_type": "stream",
     "text": [
      "Evaluation :  ===============================================================\n",
      "Loss :  0.5086400508880615\n",
      "Accuracy :  0.7856597900390625\n"
     ]
    }
   ],
   "source": [
    "\n",
    "print(\"Evaluation :  ===============================================================\")\n",
    "print(\"Loss : \", score[0])\n",
    "print(\"Accuracy : \", score[1])"
   ]
  },
  {
   "cell_type": "markdown",
   "metadata": {
    "id": "iXlISlDz_edR"
   },
   "source": [
    "### Visualizing Training vs Validation (accuracy and loss) plots"
   ]
  },
  {
   "cell_type": "code",
   "execution_count": 12,
   "metadata": {
    "id": "i1bVFqmFgLBA"
   },
   "outputs": [],
   "source": [
    "import matplotlib.pyplot as plt"
   ]
  },
  {
   "cell_type": "code",
   "execution_count": 13,
   "metadata": {
    "colab": {
     "base_uri": "https://localhost:8080/",
     "height": 545
    },
    "id": "AM25HOB6gP5g",
    "outputId": "309ef203-5e85-4b86-8e65-0eda2857e367"
   },
   "outputs": [
    {
     "data": {
      "image/png": "[encoded data removed]",
      "text/plain": [
       "<Figure size 432x288 with 1 Axes>"
      ]
     },
     "metadata": {
      "needs_background": "light"
     },
     "output_type": "display_data"
    },
    {
     "data": {
      "image/png": "[encoded data removed]",
      "text/plain": [
       "<Figure size 432x288 with 1 Axes>"
      ]
     },
     "metadata": {
      "needs_background": "light"
     },
     "output_type": "display_data"
    }
   ],
   "source": [
    "acc = score_fit.history['accuracy']\n",
    "val_acc = score_fit.history['val_accuracy']\n",
    "loss = score_fit.history['loss']\n",
    "val_loss = score_fit.history['val_loss']\n",
    "epochs = range(1, len(acc) + 1)\n",
    "\n",
    "# Train and validation accuracy\n",
    "plt.plot(epochs, acc, 'b', label='Training accurarcy')\n",
    "plt.plot(epochs, val_acc, 'r', label='Validation accurarcy')\n",
    "plt.title('Training and Validation accurarcy')\n",
    "plt.legend()\n",
    "\n",
    "plt.figure()\n",
    "\n",
    "# Train and validation loss\n",
    "plt.plot(epochs, loss, 'b', label='Training loss')\n",
    "plt.plot(epochs, val_loss, 'r', label='Validation loss')\n",
    "plt.title('Training and Validation loss')\n",
    "plt.legend()\n",
    "plt.show()"
   ]
  },
  {
   "cell_type": "markdown",
   "metadata": {
    "id": "NbH7vykX_qX3"
   },
   "source": [
    "### Conclusion"
   ]
  },
  {
   "cell_type": "markdown",
   "metadata": {
    "id": "0eWWX7hHL9kD"
   },
   "source": [
    "#### We have obtained an accuracy of 78.56% for the Brain Tumor Classification Dataset. From the training  accuracy vs validation accuracy plot we can see that the accuracy improves as the no. of epochs increases. From the loss plot it is evident that the loss decreases as the epochs increase. However the loss curve for validation set is a little nosy indicating that the models finds it a little dificult to fit new data.\n",
    "\n",
    "#### From the accuracy plot it is quite evident that the gap between the training and validation curve is less indicating that the model is neither overfitted nor underfitted"
   ]
  },
  {
   "cell_type": "code",
   "execution_count": 13,
   "metadata": {
    "id": "Ehl7Ft8DgQG2"
   },
   "outputs": [],
   "source": []
  }
 ],
 "metadata": {
  "colab": {
   "name": "Copy of 19BAI1107_Padmaja_CV_Lab 11.ipynb",
   "provenance": []
  },
  "kernelspec": {
   "display_name": "Python 3",
   "language": "python",
   "name": "python3"
  },
  "language_info": {
   "codemirror_mode": {
    "name": "ipython",
    "version": 3
   },
   "file_extension": ".py",
   "mimetype": "text/x-python",
   "name": "python",
   "nbconvert_exporter": "python",
   "pygments_lexer": "ipython3",
   "version": "3.8.8"
  }
 },
 "nbformat": 4,
 "nbformat_minor": 1
}
