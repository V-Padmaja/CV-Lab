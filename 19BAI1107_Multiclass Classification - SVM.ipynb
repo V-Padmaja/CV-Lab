{
 "cells": [
  {
   "cell_type": "markdown",
   "id": "db3e6083",
   "metadata": {},
   "source": [
    "# CSE 4038 - Computer Vision in Health Care Lab\n",
    "### Name: V Padmaja\n",
    "### RegNo: 19BAI1107\n",
    "## Lab Experiment 6&7: Support Vector Machine\n",
    "\n",
    "# iii) SVM Classifier - Image Dataset: Facial Expression (Multiclass Classification)\n",
    "### Use any face expression dataset. Demonstrate Multiclass classification using SVM. Guage the performance of your SVM classification. "
   ]
  },
  {
   "cell_type": "markdown",
   "id": "90bf4875",
   "metadata": {},
   "source": [
    "## a) Using SVC Classifier"
   ]
  },
  {
   "cell_type": "markdown",
   "id": "c5dd8cf4",
   "metadata": {},
   "source": [
    "## Import the necessary Libraries"
   ]
  },
  {
   "cell_type": "code",
   "execution_count": 1,
   "id": "213ed943",
   "metadata": {},
   "outputs": [],
   "source": [
    "import numpy as np\n",
    "import pandas as pd\n",
    "import matplotlib.pyplot as plt\n",
    "%matplotlib inline\n",
    "import cv2\n",
    "import os\n",
    "from tqdm import tqdm"
   ]
  },
  {
   "cell_type": "markdown",
   "id": "e2126b49",
   "metadata": {},
   "source": [
    "## Define data directories"
   ]
  },
  {
   "cell_type": "code",
   "execution_count": 2,
   "id": "2ac122d9",
   "metadata": {},
   "outputs": [],
   "source": [
    "DATADIR = 'C:/Users/V Padmaja/Downloads/Facial_Expression/train/'\n",
    "CATEGORIES = ['angry', 'fear', 'happy', 'neutral', 'sad']\n",
    "IMG_SIZE=100"
   ]
  },
  {
   "cell_type": "markdown",
   "id": "38922c6d",
   "metadata": {},
   "source": [
    "## Visualizing image from dataset"
   ]
  },
  {
   "cell_type": "code",
   "execution_count": 3,
   "id": "d737e2a5",
   "metadata": {},
   "outputs": [
    {
     "data": {
      "image/png": "[encoded data removed]",
      "text/plain": [
       "<Figure size 432x288 with 1 Axes>"
      ]
     },
     "metadata": {
      "needs_background": "light"
     },
     "output_type": "display_data"
    }
   ],
   "source": [
    "for category in CATEGORIES:\n",
    "    path=os.path.join(DATADIR, category)\n",
    "    for img in os.listdir(path):\n",
    "        img_array=cv2.imread(os.path.join(path,img))\n",
    "        plt.imshow(img_array)\n",
    "        plt.show()\n",
    "        break\n",
    "    break"
   ]
  },
  {
   "cell_type": "markdown",
   "id": "99141bdc",
   "metadata": {},
   "source": [
    "## Preprocessing data"
   ]
  },
  {
   "cell_type": "code",
   "execution_count": 4,
   "id": "5de70e14",
   "metadata": {},
   "outputs": [],
   "source": [
    "training_data=[]\n",
    "def create_training_data():\n",
    "    for category in CATEGORIES:\n",
    "        path=os.path.join(DATADIR, category)\n",
    "        class_num=CATEGORIES.index(category)\n",
    "        for img in os.listdir(path):\n",
    "            try:\n",
    "                img_array=cv2.imread(os.path.join(path,img))\n",
    "                new_array=cv2.resize(img_array,(IMG_SIZE,IMG_SIZE))\n",
    "                training_data.append([new_array,class_num])\n",
    "            except Exception as e:\n",
    "                pass\n",
    "create_training_data() "
   ]
  },
  {
   "cell_type": "code",
   "execution_count": 5,
   "id": "71e41444",
   "metadata": {},
   "outputs": [
    {
     "name": "stdout",
     "output_type": "stream",
     "text": [
      "1792\n"
     ]
    }
   ],
   "source": [
    "print(len(training_data))"
   ]
  },
  {
   "cell_type": "code",
   "execution_count": 6,
   "id": "1c20624a",
   "metadata": {},
   "outputs": [],
   "source": [
    "lenofimage = len(training_data)"
   ]
  },
  {
   "cell_type": "markdown",
   "id": "3fbaad2f",
   "metadata": {},
   "source": [
    "## Converting images to numpy array"
   ]
  },
  {
   "cell_type": "code",
   "execution_count": 7,
   "id": "aa69a0c6",
   "metadata": {},
   "outputs": [],
   "source": [
    "X=[]\n",
    "y=[]\n",
    "\n",
    "for categories, label in training_data:\n",
    "    X.append(categories)\n",
    "    y.append(label)\n",
    "X= np.array(X).reshape(lenofimage,-1)\n",
    "##X = tf.keras.utils.normalize(X, axis = 1)"
   ]
  },
  {
   "cell_type": "code",
   "execution_count": 8,
   "id": "64fdaada",
   "metadata": {},
   "outputs": [
    {
     "data": {
      "text/plain": [
       "(1792, 30000)"
      ]
     },
     "execution_count": 8,
     "metadata": {},
     "output_type": "execute_result"
    }
   ],
   "source": [
    "X.shape"
   ]
  },
  {
   "cell_type": "code",
   "execution_count": 9,
   "id": "6e7110f6",
   "metadata": {},
   "outputs": [],
   "source": [
    "X = X/255.0"
   ]
  },
  {
   "cell_type": "code",
   "execution_count": 10,
   "id": "fa52f741",
   "metadata": {},
   "outputs": [
    {
     "data": {
      "text/plain": [
       "array([0.59607843, 0.59607843, 0.59607843, ..., 0.71764706, 0.71764706,\n",
       "       0.71764706])"
      ]
     },
     "execution_count": 10,
     "metadata": {},
     "output_type": "execute_result"
    }
   ],
   "source": [
    "X[1]"
   ]
  },
  {
   "cell_type": "code",
   "execution_count": 11,
   "id": "ac6d9164",
   "metadata": {},
   "outputs": [],
   "source": [
    "y=np.array(y)"
   ]
  },
  {
   "cell_type": "code",
   "execution_count": 12,
   "id": "e34faba2",
   "metadata": {},
   "outputs": [
    {
     "data": {
      "text/plain": [
       "(1792,)"
      ]
     },
     "execution_count": 12,
     "metadata": {},
     "output_type": "execute_result"
    }
   ],
   "source": [
    "y.shape"
   ]
  },
  {
   "cell_type": "markdown",
   "id": "6440a907",
   "metadata": {},
   "source": [
    "## Train Test Split"
   ]
  },
  {
   "cell_type": "code",
   "execution_count": 13,
   "id": "feeca931",
   "metadata": {},
   "outputs": [],
   "source": [
    "from sklearn.model_selection import train_test_split\n",
    "X_train, X_test, y_train, y_test = train_test_split(X,y)"
   ]
  },
  {
   "cell_type": "markdown",
   "id": "feb95b9b",
   "metadata": {},
   "source": [
    "## SVM Classifier"
   ]
  },
  {
   "cell_type": "code",
   "execution_count": 14,
   "id": "f9669424",
   "metadata": {},
   "outputs": [
    {
     "data": {
      "text/plain": [
       "SVC(gamma='auto', kernel='linear')"
      ]
     },
     "execution_count": 14,
     "metadata": {},
     "output_type": "execute_result"
    }
   ],
   "source": [
    "from sklearn.svm import SVC\n",
    "svc = SVC(kernel='linear',gamma='auto')\n",
    "svc.fit(X_train, y_train)"
   ]
  },
  {
   "cell_type": "markdown",
   "id": "241d972f",
   "metadata": {},
   "source": [
    "## Prediction and Evaluation"
   ]
  },
  {
   "cell_type": "code",
   "execution_count": 15,
   "id": "8d39a70a",
   "metadata": {},
   "outputs": [],
   "source": [
    "y2 = svc.predict(X_test)"
   ]
  },
  {
   "cell_type": "code",
   "execution_count": 16,
   "id": "fae3d6c4",
   "metadata": {},
   "outputs": [
    {
     "name": "stdout",
     "output_type": "stream",
     "text": [
      "Accuracy on data is 0.31919642857142855\n"
     ]
    }
   ],
   "source": [
    "from sklearn.metrics import accuracy_score\n",
    "print(\"Accuracy on data is\",accuracy_score(y_test,y2))"
   ]
  },
  {
   "cell_type": "code",
   "execution_count": 17,
   "id": "9091de3e",
   "metadata": {},
   "outputs": [
    {
     "name": "stdout",
     "output_type": "stream",
     "text": [
      "Accuracy on report               precision    recall  f1-score   support\n",
      "\n",
      "           0       0.24      0.29      0.26        55\n",
      "           1       0.37      0.39      0.38       142\n",
      "           2       0.42      0.45      0.43       101\n",
      "           3       0.27      0.26      0.26        77\n",
      "           4       0.14      0.10      0.11        73\n",
      "\n",
      "    accuracy                           0.32       448\n",
      "   macro avg       0.29      0.30      0.29       448\n",
      "weighted avg       0.31      0.32      0.31       448\n",
      "\n"
     ]
    }
   ],
   "source": [
    "from sklearn.metrics import classification_report\n",
    "print(\"Accuracy on report\",classification_report(y_test,y2))"
   ]
  },
  {
   "cell_type": "markdown",
   "id": "7a48aca3",
   "metadata": {},
   "source": [
    "### Conclusion: After training using SVC Classifier the model gives an accuracy of 32%. More training data can help us improve the accuracy of the model"
   ]
  },
  {
   "cell_type": "markdown",
   "id": "06c26ff9",
   "metadata": {},
   "source": [
    "## b) Using Sequential Model"
   ]
  },
  {
   "cell_type": "markdown",
   "id": "6afc9a5a",
   "metadata": {},
   "source": [
    "## Import Necessary Libraries"
   ]
  },
  {
   "cell_type": "code",
   "execution_count": 18,
   "id": "54c570a4",
   "metadata": {},
   "outputs": [],
   "source": [
    "import numpy as np\n",
    "import pandas as pd\n",
    "import tensorflow as tf\n",
    "from tensorflow.keras.preprocessing.image import ImageDataGenerator\n",
    "from tensorflow.keras import Sequential\n",
    "from tensorflow.keras.layers import Conv2D,Dense,MaxPool2D,Flatten\n",
    "from tensorflow.keras.regularizers import l2"
   ]
  },
  {
   "cell_type": "markdown",
   "id": "d0c607e0",
   "metadata": {},
   "source": [
    "## Data Augmentation"
   ]
  },
  {
   "cell_type": "code",
   "execution_count": 21,
   "id": "e0e08a7a",
   "metadata": {},
   "outputs": [
    {
     "name": "stdout",
     "output_type": "stream",
     "text": [
      "Found 1792 images belonging to 5 classes.\n",
      "Found 386 images belonging to 5 classes.\n"
     ]
    }
   ],
   "source": [
    "train_dir = \"C:/Users/V Padmaja/Downloads/Facial_Expression/train\"\n",
    "test_dir = \"C:/Users/V Padmaja/Downloads/Facial_Expression/test\"\n",
    "train_datagen = ImageDataGenerator(rescale=(1/255.),shear_range = 0.2,zoom_range=0.2,\n",
    "                                   horizontal_flip=True)\n",
    "training_set = train_datagen.flow_from_directory(directory = train_dir,target_size=(64,64),\n",
    "                                                batch_size=32,\n",
    "                                                class_mode = \"sparse\")\n",
    "test_datagen = ImageDataGenerator(rescale=(1/255.))\n",
    "test_set = test_datagen.flow_from_directory(directory = test_dir,target_size=(64,64),\n",
    "                                                batch_size=32,\n",
    "                                                class_mode = \"sparse\")"
   ]
  },
  {
   "cell_type": "markdown",
   "id": "97780d94",
   "metadata": {},
   "source": [
    "## Sequential Model"
   ]
  },
  {
   "cell_type": "code",
   "execution_count": 25,
   "id": "8a4f5277",
   "metadata": {},
   "outputs": [],
   "source": [
    "model = Sequential()\n",
    "model.add(Conv2D(filters = 32, padding = \"same\",activation = \"relu\",kernel_size=3, strides = 2,input_shape=(64,64,3)))\n",
    "model.add(MaxPool2D(pool_size=(2,2),strides = 2))\n",
    "\n",
    "model.add(Conv2D(filters = 32, padding = \"same\",activation = \"relu\",kernel_size=3))\n",
    "model.add(MaxPool2D(pool_size=(2,2),strides = 2))\n",
    "\n",
    "model.add(Flatten())\n",
    "model.add(Dense(128,activation=\"relu\"))\n",
    "\n",
    "#Output layer\n",
    "model.add(Dense(5,kernel_regularizer=l2(0.01),activation = \"linear\"))"
   ]
  },
  {
   "cell_type": "markdown",
   "id": "9ca49b52",
   "metadata": {},
   "source": [
    "#### To convert the above model into SVM we use a parameter called  “kernel_regularizer” and inside this regularizer, we have to use l1 or l2 norm. Here, I have used using l2 norm and pass linear as activation function."
   ]
  },
  {
   "cell_type": "markdown",
   "id": "edab92fa",
   "metadata": {},
   "source": [
    "## Model Compilation"
   ]
  },
  {
   "cell_type": "code",
   "execution_count": 26,
   "id": "50a5c641",
   "metadata": {},
   "outputs": [],
   "source": [
    "model.compile(optimizer = 'adam', loss = \"hinge\", metrics = ['accuracy'])"
   ]
  },
  {
   "cell_type": "markdown",
   "id": "f3941d35",
   "metadata": {},
   "source": [
    "## Model Training"
   ]
  },
  {
   "cell_type": "code",
   "execution_count": 27,
   "id": "1b0f45f8",
   "metadata": {},
   "outputs": [
    {
     "name": "stdout",
     "output_type": "stream",
     "text": [
      "Epoch 1/20\n",
      "56/56 [==============================] - 10s 162ms/step - loss: 0.2553 - accuracy: 0.2042 - val_loss: 0.2323 - val_accuracy: 0.2902\n",
      "Epoch 2/20\n",
      "56/56 [==============================] - 8s 147ms/step - loss: 0.1876 - accuracy: 0.2282 - val_loss: 0.2039 - val_accuracy: 0.2902\n",
      "Epoch 3/20\n",
      "56/56 [==============================] - 8s 145ms/step - loss: 0.1650 - accuracy: 0.2282 - val_loss: 0.1867 - val_accuracy: 0.2902\n",
      "Epoch 4/20\n",
      "56/56 [==============================] - 8s 147ms/step - loss: 0.1518 - accuracy: 0.2282 - val_loss: 0.1769 - val_accuracy: 0.2902\n",
      "Epoch 5/20\n",
      "56/56 [==============================] - 9s 153ms/step - loss: 0.1444 - accuracy: 0.2282 - val_loss: 0.1716 - val_accuracy: 0.2902\n",
      "Epoch 6/20\n",
      "56/56 [==============================] - 9s 152ms/step - loss: 0.1405 - accuracy: 0.2148 - val_loss: 0.1688 - val_accuracy: 0.1399\n",
      "Epoch 7/20\n",
      "56/56 [==============================] - 8s 150ms/step - loss: 0.1385 - accuracy: 0.1529 - val_loss: 0.1676 - val_accuracy: 0.1658\n",
      "Epoch 8/20\n",
      "56/56 [==============================] - 8s 148ms/step - loss: 0.1375 - accuracy: 0.1362 - val_loss: 0.1667 - val_accuracy: 0.1658\n",
      "Epoch 9/20\n",
      "56/56 [==============================] - 8s 146ms/step - loss: 0.1369 - accuracy: 0.1490 - val_loss: 0.1663 - val_accuracy: 0.1399\n",
      "Epoch 10/20\n",
      "56/56 [==============================] - 8s 145ms/step - loss: 0.1365 - accuracy: 0.1657 - val_loss: 0.1661 - val_accuracy: 0.1399\n",
      "Epoch 11/20\n",
      "56/56 [==============================] - 8s 144ms/step - loss: 0.1364 - accuracy: 0.2746 - val_loss: 0.1660 - val_accuracy: 0.2098\n",
      "Epoch 12/20\n",
      "56/56 [==============================] - 8s 146ms/step - loss: 0.1364 - accuracy: 0.2891 - val_loss: 0.1661 - val_accuracy: 0.2902\n",
      "Epoch 13/20\n",
      "56/56 [==============================] - 8s 146ms/step - loss: 0.1366 - accuracy: 0.1869 - val_loss: 0.1663 - val_accuracy: 0.1736\n",
      "Epoch 14/20\n",
      "56/56 [==============================] - 8s 141ms/step - loss: 0.1366 - accuracy: 0.1350 - val_loss: 0.1661 - val_accuracy: 0.1658\n",
      "Epoch 15/20\n",
      "56/56 [==============================] - 8s 135ms/step - loss: 0.1364 - accuracy: 0.1328 - val_loss: 0.1662 - val_accuracy: 0.1399\n",
      "Epoch 16/20\n",
      "56/56 [==============================] - 8s 141ms/step - loss: 0.1365 - accuracy: 0.1657 - val_loss: 0.1661 - val_accuracy: 0.1399\n",
      "Epoch 17/20\n",
      "56/56 [==============================] - 8s 135ms/step - loss: 0.1364 - accuracy: 0.1657 - val_loss: 0.1660 - val_accuracy: 0.1399\n",
      "Epoch 18/20\n",
      "56/56 [==============================] - 8s 148ms/step - loss: 0.1363 - accuracy: 0.1657 - val_loss: 0.1659 - val_accuracy: 0.1399\n",
      "Epoch 19/20\n",
      "56/56 [==============================] - 8s 148ms/step - loss: 0.1363 - accuracy: 0.2087 - val_loss: 0.1662 - val_accuracy: 0.2098\n",
      "Epoch 20/20\n",
      "56/56 [==============================] - 8s 147ms/step - loss: 0.1365 - accuracy: 0.3192 - val_loss: 0.1661 - val_accuracy: 0.2098\n"
     ]
    }
   ],
   "source": [
    "history = model.fit(x = training_set, validation_data = test_set, epochs=20)"
   ]
  },
  {
   "cell_type": "markdown",
   "id": "02d1fc5c",
   "metadata": {},
   "source": [
    "### After training with Facial Expression dataset with CNN it gives us an accuracy of 20.98%"
   ]
  },
  {
   "cell_type": "markdown",
   "id": "1947aa03",
   "metadata": {},
   "source": [
    "## Evaluation Graph"
   ]
  },
  {
   "cell_type": "code",
   "execution_count": 28,
   "id": "13aad1de",
   "metadata": {},
   "outputs": [],
   "source": [
    "import matplotlib.pyplot as plt"
   ]
  },
  {
   "cell_type": "code",
   "execution_count": 29,
   "id": "0a6222f9",
   "metadata": {},
   "outputs": [
    {
     "data": {
      "image/png": "[encoded data removed]",
      "text/plain": [
       "<Figure size 432x288 with 1 Axes>"
      ]
     },
     "metadata": {
      "needs_background": "light"
     },
     "output_type": "display_data"
    },
    {
     "data": {
      "image/png": "[encoded data removed]",
      "text/plain": [
       "<Figure size 432x288 with 1 Axes>"
      ]
     },
     "metadata": {
      "needs_background": "light"
     },
     "output_type": "display_data"
    }
   ],
   "source": [
    "acc = history.history['accuracy']\n",
    "val_acc = history.history['val_accuracy']\n",
    "loss = history.history['loss']\n",
    "val_loss = history.history['val_loss']\n",
    "epochs = range(1, len(acc) + 1)\n",
    "\n",
    "# Train and validation accuracy\n",
    "plt.plot(epochs, acc, 'b', label='Training accurarcy')\n",
    "plt.plot(epochs, val_acc, 'r', label='Validation accurarcy')\n",
    "plt.title('Training and Validation accurarcy')\n",
    "plt.legend()\n",
    "\n",
    "plt.figure()\n",
    "\n",
    "# Train and validation loss\n",
    "plt.plot(epochs, loss, 'b', label='Training loss')\n",
    "plt.plot(epochs, val_loss, 'r', label='Validation loss')\n",
    "plt.title('Training and Validation loss')\n",
    "plt.legend()\n",
    "plt.show()"
   ]
  },
  {
   "cell_type": "markdown",
   "id": "0cb9b3ad",
   "metadata": {},
   "source": [
    "#### The training vs validation accuracy graph is noisy. The model is underfitted and more training data can help us improve the accuracy "
   ]
  },
  {
   "cell_type": "markdown",
   "id": "e888faff",
   "metadata": {},
   "source": [
    "### Conclusion: The SVC Classifier gave us a better accuracy of 32% compared to SVM using CNN which yeilded an accuracy of 20.98%"
   ]
  }
 ],
 "metadata": {
  "kernelspec": {
   "display_name": "Python 3",
   "language": "python",
   "name": "python3"
  },
  "language_info": {
   "codemirror_mode": {
    "name": "ipython",
    "version": 3
   },
   "file_extension": ".py",
   "mimetype": "text/x-python",
   "name": "python",
   "nbconvert_exporter": "python",
   "pygments_lexer": "ipython3",
   "version": "3.8.8"
  }
 },
 "nbformat": 4,
 "nbformat_minor": 5
}
